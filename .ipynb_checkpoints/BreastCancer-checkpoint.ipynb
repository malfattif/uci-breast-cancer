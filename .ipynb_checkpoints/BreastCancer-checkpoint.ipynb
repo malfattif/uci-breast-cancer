{
 "cells": [
  {
   "cell_type": "markdown",
   "metadata": {},
   "source": [
    "<h2> <a href=\"https://archive.ics.uci.edu/ml/datasets/Cervical+cancer+%28Risk+Factors%29\"> UCI - Breast Cancer</a> </h2>"
   ]
  },
  {
   "cell_type": "code",
   "execution_count": 287,
   "metadata": {},
   "outputs": [],
   "source": [
    "#MODELOS\n",
    "import pandas as pd\n",
    "from sklearn.model_selection import train_test_split\n",
    "from sklearn.ensemble import RandomForestClassifier\n",
    "from sklearn.neighbors import KNeighborsClassifier"
   ]
  },
  {
   "cell_type": "code",
   "execution_count": 288,
   "metadata": {},
   "outputs": [],
   "source": [
    "#MÉTRICAS\n",
    "from sklearn.metrics import confusion_matrix\n",
    "from sklearn.metrics import make_scorer\n",
    "from sklearn.metrics import matthews_corrcoef"
   ]
  },
  {
   "cell_type": "code",
   "execution_count": 289,
   "metadata": {},
   "outputs": [],
   "source": [
    "df_cancer = pd.read_csv('breast-cancer.data.csv', delimiter=',')\n",
    "df_cancer.drop(columns='class', inplace=True)\n",
    "\n",
    "# OS VALORES FORAM SUBSTITUIDOS BASEADOS NA QUATIDADE: no x yes (222 x 56)\n",
    "df_cancer['node-caps'].replace('?', 'no', inplace=True) \n",
    "df_cancer['breast-quad'].replace('?', 'left_low', inplace=True)"
   ]
  },
  {
   "cell_type": "code",
   "execution_count": 276,
   "metadata": {},
   "outputs": [],
   "source": [
    "df_cancer = pd.get_dummies(df_cancer)"
   ]
  },
  {
   "cell_type": "code",
   "execution_count": 277,
   "metadata": {},
   "outputs": [],
   "source": [
    "df_class = pd.read_csv('breast-cancer.data.csv', delimiter=',')\n",
    "df_class = df_class['class']"
   ]
  },
  {
   "cell_type": "code",
   "execution_count": 278,
   "metadata": {},
   "outputs": [],
   "source": [
    "#SEPARAMOS TREINO E TESTE EM 70% E 30% RESPECTIVAMENTE\n",
    "x_train, x_test, y_train, y_test = train_test_split(df_cancer, df_class, test_size=0.3, random_state=0)"
   ]
  },
  {
   "cell_type": "code",
   "execution_count": 279,
   "metadata": {},
   "outputs": [],
   "source": [
    "#RANDOM FOREST CLASSIFIER\n",
    "classifier = RandomForestClassifier(n_estimators = 100)\n",
    "classifier.fit(x_train, y_train)\n",
    "x_predict = classifier.predict(x_test)"
   ]
  },
  {
   "cell_type": "code",
   "execution_count": 280,
   "metadata": {},
   "outputs": [],
   "source": [
    "def print_confusion_matrix(y_test, x_predict):\n",
    "    mat = confusion_matrix(y_test, x_predict)\n",
    "    print(\"Matriz de confusão: \\n\"+str(mat))"
   ]
  },
  {
   "cell_type": "code",
   "execution_count": 281,
   "metadata": {},
   "outputs": [],
   "source": [
    "def print_score(x_test,y_test, classifier):\n",
    "    acuracia = classifier.score(x_test,y_test)\n",
    "    print(\"Acurácia: \"+str(acuracia*100)+\"%\")"
   ]
  },
  {
   "cell_type": "code",
   "execution_count": 282,
   "metadata": {},
   "outputs": [
    {
     "name": "stdout",
     "output_type": "stream",
     "text": [
      "------------------------- RANDOM FOREST -------------------------\n",
      "Matriz de confusão: \n",
      "[[50  5]\n",
      " [21 10]]\n",
      "\n",
      "Acurácia: 69.76744186046511%\n",
      "------------------------- RANDOM FOREST -------------------------\n"
     ]
    }
   ],
   "source": [
    "print(\"------------------------- RANDOM FOREST -------------------------\")\n",
    "print_confusion_matrix(y_test, x_predict)\n",
    "print(\"\")\n",
    "print_score(x_test,y_test, classifier)\n",
    "print(\"------------------------- RANDOM FOREST -------------------------\")"
   ]
  },
  {
   "cell_type": "code",
   "execution_count": 283,
   "metadata": {},
   "outputs": [],
   "source": [
    "#KNN CLASSIFIER\n",
    "# EXPERIMENTAMOS VÁRIOS VALORES PARA O NÚMERO DE VIZINHOS, ESCOLHEMOS O 3 POR SER UM NÚMERO IMPAR E POR APRESENTAR O MELHOR RESULTADO\n",
    "classifier = KNeighborsClassifier(n_neighbors=3) \n",
    "classifier.fit(x_train, y_train)\n",
    "x_predict = classifier.predict(x_test)"
   ]
  },
  {
   "cell_type": "code",
   "execution_count": 284,
   "metadata": {},
   "outputs": [
    {
     "name": "stdout",
     "output_type": "stream",
     "text": [
      "------------------------- KNN -------------------------\n",
      "Matriz de confusão: \n",
      "[[51  4]\n",
      " [20 11]]\n",
      "\n",
      "Acurácia: 72.09302325581395%\n",
      "------------------------- KNN -------------------------\n"
     ]
    }
   ],
   "source": [
    "print(\"------------------------- KNN -------------------------\")\n",
    "print_confusion_matrix(y_test, x_predict)\n",
    "print(\"\")\n",
    "print_score(x_test,y_test, classifier)\n",
    "print(\"------------------------- KNN -------------------------\")"
   ]
  },
  {
   "cell_type": "code",
   "execution_count": 291,
   "metadata": {},
   "outputs": [],
   "source": [
    "m_scorer= make_scorer(matthews_corrcoef)"
   ]
  },
  {
   "cell_type": "code",
   "execution_count": 296,
   "metadata": {},
   "outputs": [
    {
     "ename": "TypeError",
     "evalue": "__call__() missing 3 required positional arguments: 'estimator', 'X', and 'y_true'",
     "output_type": "error",
     "traceback": [
      "\u001b[1;31m---------------------------------------------------------------------------\u001b[0m",
      "\u001b[1;31mTypeError\u001b[0m                                 Traceback (most recent call last)",
      "\u001b[1;32m<ipython-input-296-b6ea58ecd807>\u001b[0m in \u001b[0;36m<module>\u001b[1;34m()\u001b[0m\n\u001b[1;32m----> 1\u001b[1;33m \u001b[0mtype\u001b[0m\u001b[1;33m(\u001b[0m\u001b[0mm_score\u001b[0m\u001b[1;33m(\u001b[0m\u001b[1;33m)\u001b[0m\u001b[1;33m)\u001b[0m\u001b[1;33m\u001b[0m\u001b[0m\n\u001b[0m",
      "\u001b[1;31mTypeError\u001b[0m: __call__() missing 3 required positional arguments: 'estimator', 'X', and 'y_true'"
     ]
    }
   ],
   "source": [
    "type(m_scorer())"
   ]
  },
  {
   "cell_type": "code",
   "execution_count": null,
   "metadata": {},
   "outputs": [],
   "source": []
  }
 ],
 "metadata": {
  "kernelspec": {
   "display_name": "Python 3",
   "language": "python",
   "name": "python3"
  },
  "language_info": {
   "codemirror_mode": {
    "name": "ipython",
    "version": 3
   },
   "file_extension": ".py",
   "mimetype": "text/x-python",
   "name": "python",
   "nbconvert_exporter": "python",
   "pygments_lexer": "ipython3",
   "version": "3.6.5"
  }
 },
 "nbformat": 4,
 "nbformat_minor": 2
}
